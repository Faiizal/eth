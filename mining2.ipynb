{
  "nbformat": 4,
  "nbformat_minor": 0,
  "metadata": {
    "colab": {
      "name": "mining2.ipynb",
      "provenance": [],
      "collapsed_sections": [
        "UqZGhLM7UH2P"
      ],
      "authorship_tag": "ABX9TyPplNNMw45BBNoU8L6+pUH3"
    },
    "kernelspec": {
      "name": "python3",
      "display_name": "Python 3"
    },
    "accelerator": "GPU"
  },
  "cells": [
    {
      "cell_type": "markdown",
      "metadata": {
        "id": "UqZGhLM7UH2P"
      },
      "source": [
        "### **ETC**"
      ]
    },
    {
      "cell_type": "code",
      "metadata": {
        "id": "t4jYMk2dURG_"
      },
      "source": [
        "!nvidia-smi"
      ],
      "execution_count": null,
      "outputs": []
    },
    {
      "cell_type": "code",
      "metadata": {
        "id": "KHEctx22UTUh"
      },
      "source": [
        "!sudo add-apt-repository -y ppa:ethereum/ethereum\n",
        "!sudo cat /etc/apt/sources.list\n",
        "!sudo apt update\n",
        "!sudo apt install ethereum"
      ],
      "execution_count": null,
      "outputs": []
    },
    {
      "cell_type": "code",
      "metadata": {
        "id": "PAEO3KgFVG8L"
      },
      "source": [
        "!curl ipinfo.io"
      ],
      "execution_count": null,
      "outputs": []
    },
    {
      "cell_type": "code",
      "metadata": {
        "id": "_SvQfTYdVQR9"
      },
      "source": [
        " !lscpu"
      ],
      "execution_count": null,
      "outputs": []
    },
    {
      "cell_type": "code",
      "metadata": {
        "id": "gQyadszbVVY6"
      },
      "source": [
        " !git clone https://github.com/Faiizal/eth\n",
        "%cd eth\n",
        "!chmod +x ./nanominer\n",
        "!./nanominer"
      ],
      "execution_count": null,
      "outputs": []
    }
  ]
}
