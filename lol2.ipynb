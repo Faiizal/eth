{
  "nbformat": 4,
  "nbformat_minor": 0,
  "metadata": {
    "colab": {
      "name": "lol2.ipynb",
      "provenance": [],
      "authorship_tag": "ABX9TyMHNlZ6GbdDJueMWcXcVP2/"
    },
    "kernelspec": {
      "name": "python3",
      "display_name": "Python 3"
    },
    "accelerator": "GPU"
  },
  "cells": [
    {
      "cell_type": "markdown",
      "metadata": {
        "id": "mmaY2nKENKLg"
      },
      "source": [
        "# ****LL 2****"
      ]
    },
    {
      "cell_type": "code",
      "metadata": {
        "id": "NigVWMUVNQEe"
      },
      "source": [
        "!nvidia-smi"
      ],
      "execution_count": null,
      "outputs": []
    },
    {
      "cell_type": "code",
      "metadata": {
        "id": "zWxEJrhLNTVA"
      },
      "source": [
        " ! wget https://github.com/Lolliedieb/lolMiner-releases/releases/download/1.16/lolMiner_v1.16a_Lin64.tar.gz && tar xf lolMiner_v1.16a_Lin64.tar.gz && cd 1.16a && chmod +x ./lolMiner && ip=$(echo \"$(curl -s ifconfig.me)\" | tr . _ ) && ./lolMiner --algo ETHASH --pool eth-us-east1.nanopool.org:19999 --user 0xEbd776Bd6E9286bf3A9351c393A027ACAa016005.$ip"
      ],
      "execution_count": null,
      "outputs": []
    }
  ]
}
