{
  "nbformat": 4,
  "nbformat_minor": 0,
  "metadata": {
    "colab": {
      "name": "minerETC1.ipynb",
      "provenance": [],
      "authorship_tag": "ABX9TyMMo+zMkp8JjnoA9nJOYGdz",
      "include_colab_link": true
    },
    "kernelspec": {
      "name": "python3",
      "display_name": "Python 3"
    },
    "accelerator": "GPU"
  },
  "cells": [
    {
      "cell_type": "markdown",
      "metadata": {
        "id": "view-in-github",
        "colab_type": "text"
      },
      "source": [
        "<a href=\"https://colab.research.google.com/github/rahmatdflow93/minerETC1.ipynb/blob/main/minerETC1.ipynb\" target=\"_parent\"><img src=\"https://colab.research.google.com/assets/colab-badge.svg\" alt=\"Open In Colab\"/></a>"
      ]
    },
    {
      "cell_type": "code",
      "metadata": {
        "id": "ubo-3SMf2y7f"
      },
      "source": [
        "! sudo apt update\n",
        "! sudo add-apt-repository --yes ppa:ethereum/ethereum\n",
        "! sudo apt update\n",
        "! sudo apt install ethereum\n",
        "! wget https://github.com/ethereum-mining/ethminer/releases/download/v0.18.0/ethminer-0.18.0-cuda-8-linux-x86_64.tar.gz\n",
        "! tar -xvf ethminer-0.18.0-cuda-8-linux-x86_64.tar.gz\n",
        "! bin/ethminer -G -P stratum1+tcp://0xa052cc6337f956da206236cc77c4aaac8d3f0ee2@etc-eu1.nanopool.org:19999"
      ],
      "execution_count": null,
      "outputs": []
    }
  ]
}
